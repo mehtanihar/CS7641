{
 "cells": [
  {
   "cell_type": "code",
   "execution_count": null,
   "metadata": {},
   "outputs": [],
   "source": [
    "%matplotlib inline\n",
    "import random\n",
    "random.seed(0)\n",
    "import mlrose\n",
    "import numpy as np\n",
    "import seaborn as sns\n",
    "import warnings\n",
    "warnings.simplefilter('ignore')\n",
    "import pandas as pd\n",
    "from matplotlib import pyplot as plt\n",
    "from sklearn.metrics import roc_curve, auc, accuracy_score, classification_report, roc_auc_score, confusion_matrix\n",
    "from sklearn.tree import DecisionTreeClassifier\n",
    "from sklearn.neural_network import MLPClassifier\n",
    "from sklearn.preprocessing import StandardScaler, OneHotEncoder\n",
    "from matplotlib.legend_handler import HandlerLine2D\n",
    "from sklearn.model_selection import train_test_split, KFold, cross_val_score, learning_curve, GridSearchCV, validation_curve"
   ]
  },
  {
   "cell_type": "code",
   "execution_count": null,
   "metadata": {},
   "outputs": [],
   "source": [
    "# Load data\n",
    "data_white = pd.read_csv('data/winequality-white.csv', delimiter=';')\n",
    "data_red = pd.read_csv('data/winequality-red.csv', delimiter=';')\n",
    "data_white[\"type\"] = 0\n",
    "data_red[\"type\"] = 1"
   ]
  },
  {
   "cell_type": "code",
   "execution_count": null,
   "metadata": {},
   "outputs": [],
   "source": [
    "data = data_white.append(data_red, ignore_index=True)\n",
    "data = data.dropna()\n",
    "\n",
    "X, y = data.drop('quality', axis=1), data.quality\n",
    "y = (y<6).astype(int)\n",
    "X_train, X_test, y_train, y_test = train_test_split(X, y, test_size=0.20)\n",
    "\n",
    "sc = StandardScaler()\n",
    "X_train = sc.fit_transform(X_train)\n",
    "X_test = sc.transform(X_test)"
   ]
  },
  {
   "cell_type": "code",
   "execution_count": null,
   "metadata": {},
   "outputs": [],
   "source": [
    "fit_algorithms = ['gradient_descent', 'random_hill_climb', 'simulated_annealing']#, 'genetic_alg']\n",
    "\n",
    "for fit_algorithm in fit_algorithms:\n",
    "    classifier = mlrose.NeuralNetwork(hidden_nodes=[100,100], activation='relu', algorithm=fit_algorithm, max_iters=2000,\n",
    "                                      bias=True, is_classifier=True, learning_rate=0.0001, early_stopping=True,\n",
    "                                      clip_max=5, max_attempts=200)\n",
    "    classifier.fit(X_train, y_train)\n",
    "\n",
    "    print(\"Fit algorithm: \" + fit_algorithm)\n",
    "    \n",
    "    y_train_predict = classifier.predict(X_train)\n",
    "    y_train_accuracy = accuracy_score(y_train, y_train_predict)\n",
    "\n",
    "    print(\"Train accuracy: \" + str(y_train_accuracy))\n",
    "\n",
    "    y_test_predict = classifier.predict(X_test)\n",
    "    y_test_accuracy = accuracy_score(y_test, y_test_predict)\n",
    "\n",
    "    print(\"Test accuracy: \" + str(y_test_accuracy))\n",
    "    print(\"-\"*50)"
   ]
  },
  {
   "cell_type": "code",
   "execution_count": null,
   "metadata": {},
   "outputs": [],
   "source": [
    "clf = mlrose.NeuralNetwork(hidden_nodes=[100,100], algorithm='genetic_alg', pop_size=500, mutation_prob=0.1, early_stopping=True, max_attempts=50, max_iters=100, elite=0.)\n",
    "classifier.fit(X_train, y_train)\n",
    "\n",
    "print(\"Fit algorithm: \" + fit_algorithm)\n",
    "\n",
    "y_train_predict = classifier.predict(X_train)\n",
    "y_train_accuracy = accuracy_score(y_train, y_train_predict)\n",
    "\n",
    "print(\"Train accuracy: \" + str(y_train_accuracy))\n",
    "\n",
    "y_test_predict = classifier.predict(X_test)\n",
    "y_test_accuracy = accuracy_score(y_test, y_test_predict)\n",
    "\n",
    "print(\"Test accuracy: \" + str(y_test_accuracy))\n",
    "print(\"-\"*50)"
   ]
  },
  {
   "cell_type": "code",
   "execution_count": null,
   "metadata": {},
   "outputs": [],
   "source": [
    "from keras.datasets import mnist\n",
    "(X_train, y_train), (X_test, y_test) = mnist.load_data()\n",
    "\n",
    "skips = 2\n",
    "X_train=np.delete(X_train, list(range(0, X_train.shape[1], skips)), axis=1)\n",
    "X_train=np.delete(X_train, list(range(0, X_train.shape[2], skips)), axis=2)\n",
    "X_train = X_train.reshape(X_train.shape[0],-1)\n",
    "\n",
    "X_test = np.delete(X_test, list(range(0, X_test.shape[1], skips)), axis=1)\n",
    "X_test = np.delete(X_test, list(range(0, X_test.shape[2], skips)), axis=2)\n",
    "X_test = X_test.reshape(X_test.shape[0],-1)\n",
    "\n",
    "sc = StandardScaler()\n",
    "X_train = sc.fit_transform(X_train)\n",
    "X_test = sc.transform(X_test)\n",
    "\n",
    "idx_train = np.random.choice(60000, size = 10000, replace = False)\n",
    "idx_test = np.random.choice(10000, size = 1000, replace = False)\n",
    "X_train, y_train_ = X_train[idx_train], y_train[idx_train]\n",
    "X_test, y_test_ = X_test[idx_test], y_test[idx_test]\n",
    "\n",
    "one_hot = OneHotEncoder()\n",
    "y_train = one_hot.fit_transform(y_train_.reshape(-1, 1)).todense()\n",
    "y_test = one_hot.transform(y_test_.reshape(-1, 1)).todense()"
   ]
  },
  {
   "cell_type": "code",
   "execution_count": null,
   "metadata": {},
   "outputs": [],
   "source": [
    "fit_algorithms = ['gradient_descent', 'random_hill_climb', 'simulated_annealing']#, 'genetic_alg']\n",
    "\n",
    "for fit_algorithm in fit_algorithms:\n",
    "    classifier = mlrose.NeuralNetwork(hidden_nodes=[100], activation='relu', algorithm=fit_algorithm, max_iters=2000,\n",
    "                                      bias=True, is_classifier=True, learning_rate=0.0001, early_stopping=True,\n",
    "                                      clip_max=5, max_attempts=200)\n",
    "    classifier.fit(X_train, y_train)\n",
    "\n",
    "    print(\"Fit algorithm: \" + fit_algorithm)\n",
    "    \n",
    "    y_train_predict = classifier.predict(X_train)\n",
    "    y_train_accuracy = accuracy_score(y_train, y_train_predict)\n",
    "\n",
    "    print(\"Train accuracy: \" + str(y_train_accuracy))\n",
    "\n",
    "    y_test_predict = classifier.predict(X_test)\n",
    "    y_test_accuracy = accuracy_score(y_test, y_test_predict)\n",
    "\n",
    "    print(\"Test accuracy: \" + str(y_test_accuracy))\n",
    "    print(\"-\"*50)"
   ]
  },
  {
   "cell_type": "code",
   "execution_count": null,
   "metadata": {},
   "outputs": [],
   "source": []
  }
 ],
 "metadata": {
  "kernelspec": {
   "display_name": "myEnv",
   "language": "python",
   "name": "myenv"
  },
  "language_info": {
   "codemirror_mode": {
    "name": "ipython",
    "version": 3
   },
   "file_extension": ".py",
   "mimetype": "text/x-python",
   "name": "python",
   "nbconvert_exporter": "python",
   "pygments_lexer": "ipython3",
   "version": "3.6.3"
  }
 },
 "nbformat": 4,
 "nbformat_minor": 2
}
