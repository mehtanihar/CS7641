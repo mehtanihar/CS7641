{
 "cells": [
  {
   "cell_type": "code",
   "execution_count": 1,
   "metadata": {},
   "outputs": [],
   "source": [
    "%matplotlib inline\n",
    "import random\n",
    "\n",
    "import time\n",
    "\n",
    "# random.seed(0)\n",
    "import mlrose\n",
    "import numpy as np\n",
    "import seaborn as sns\n",
    "import warnings\n",
    "from datetime import datetime\n",
    "warnings.simplefilter('ignore')\n",
    "import pandas as pd\n",
    "from util import init_weights, compute_loss, perturb_weights, plot_loss\n",
    "from matplotlib import pyplot as plt\n",
    "from sklearn.metrics import roc_curve, auc, accuracy_score, classification_report, roc_auc_score, confusion_matrix\n",
    "from sklearn.tree import DecisionTreeClassifier\n",
    "from sklearn.neural_network import MLPClassifier\n",
    "from sklearn.preprocessing import StandardScaler, OneHotEncoder\n",
    "from matplotlib.legend_handler import HandlerLine2D\n",
    "from sklearn.model_selection import train_test_split, KFold, cross_val_score, learning_curve, GridSearchCV, validation_curve"
   ]
  },
  {
   "cell_type": "code",
   "execution_count": 2,
   "metadata": {},
   "outputs": [],
   "source": [
    "data1 = pd.read_csv(\"datasets/pulsar/pulsar_stars.csv\", dtype=np.float32)\n",
    "Y1 = np.array(data1.pop(\"target_class\"))\n",
    "X1 = np.array(data1)\n",
    "X_train, X_test, y_train, y_test = train_test_split( X1, Y1, test_size = 0.3)\n",
    "sc = StandardScaler()\n",
    "X_train = sc.fit_transform(X_train)\n",
    "X_test = sc.transform(X_test)"
   ]
  },
  {
   "cell_type": "code",
   "execution_count": 3,
   "metadata": {},
   "outputs": [],
   "source": [
    "kf = KFold(n_splits=5)\n",
    "acc_tr = {}\n",
    "time_tr = {}\n",
    "acc_val = {}\n",
    "acc_te = {}\n",
    "\n",
    "def evaluate(algo_name, param_name, clf, kf):\n",
    "    \n",
    "    if algo_name not in acc_tr:\n",
    "        acc_tr[algo_name] = {}\n",
    "        acc_te[algo_name] = {}\n",
    "        acc_val[algo_name] = {}\n",
    "        time_tr[algo_name] = {}\n",
    "    if param_name not in acc_tr[algo_name]:\n",
    "        acc_tr[algo_name][param_name] = []\n",
    "        acc_te[algo_name][param_name] = []\n",
    "        acc_val[algo_name][param_name] = []\n",
    "        time_tr[algo_name][param_name] = []\n",
    "    eval_time = []\n",
    "    eval_tr = []\n",
    "    eval_te = []\n",
    "    eval_val = []\n",
    "    \n",
    "    for train_index, val_index in kf.split(X_train):\n",
    "        x_tr, x_val = X_train, X_train#X_train[train_index], X_train[val_index]\n",
    "        y_tr, y_val = y_train, y_train#y_train[train_index], y_train[val_index]\n",
    "        \n",
    "\n",
    "        time_start = time.time()#datetime.now()\n",
    "        clf.fit(x_tr, y_tr)\n",
    "        time_end = time.time()\n",
    "        eval_time.append(time_end - time_start)#(datetime.now() - time_start).microseconds)\n",
    "        \n",
    "        y_train_pred = clf.predict(x_tr)\n",
    "        y_val_pred = clf.predict(x_val)\n",
    "        y_train_accuracy = accuracy_score(y_tr, y_train_pred)\n",
    "        y_val_accuracy = accuracy_score(y_val, y_val_pred)\n",
    "        eval_tr.append(y_train_accuracy)    \n",
    "        eval_val.append(y_val_accuracy)\n",
    "#         if algo_name=='ga':\n",
    "        break\n",
    "        \n",
    "#     print(eval_time)\n",
    "    eval_time = np.array(eval_time).mean()\n",
    "    eval_tr = np.array(eval_tr).mean()\n",
    "    eval_val = np.array(eval_val).mean()\n",
    "\n",
    "    y_test_pred = clf.predict(X_test)\n",
    "    y_test_accuracy = accuracy_score(y_test, y_test_pred)\n",
    "    \n",
    "    acc_tr[algo_name][param_name].append(eval_tr)\n",
    "    acc_val[algo_name][param_name].append(eval_val)\n",
    "    acc_te[algo_name][param_name].append(y_test_accuracy)    \n",
    "    time_tr[algo_name][param_name].append(eval_time)\n",
    "    return eval_val"
   ]
  },
  {
   "cell_type": "markdown",
   "metadata": {},
   "source": [
    "## Gradient descent"
   ]
  },
  {
   "cell_type": "code",
   "execution_count": 4,
   "metadata": {},
   "outputs": [
    {
     "name": "stdout",
     "output_type": "stream",
     "text": [
      "Eval iter 10\n",
      "Eval iter 20\n"
     ]
    }
   ],
   "source": [
    "iteration_range = range(10, 30, 10)\n",
    "\n",
    "best_val_score = -1\n",
    "best_clf = \"\"\n",
    "for it in iteration_range:\n",
    "    print(\"Eval iter\", it)\n",
    "\n",
    "    algo = 'gd'\n",
    "    clf = mlrose.NeuralNetwork(hidden_nodes=[10,3], activation='relu', algorithm='gradient_descent',\n",
    "                              max_iters=it, bias=True, is_classifier=True, learning_rate=0.0001, \n",
    "                              early_stopping=True, clip_max=1, max_attempts=100)\n",
    "    score = evaluate(algo, 'iter', clf, kf)\n",
    "    if best_val_score<score:\n",
    "        best_val_score = score\n",
    "        best_clf = clf"
   ]
  },
  {
   "cell_type": "code",
   "execution_count": 5,
   "metadata": {},
   "outputs": [
    {
     "data": {
      "text/plain": [
       "<matplotlib.legend.Legend at 0x107231a20>"
      ]
     },
     "execution_count": 5,
     "metadata": {},
     "output_type": "execute_result"
    },
    {
     "data": {
      "image/png": "[encoded data removed]",
      "text/plain": [
       "<matplotlib.figure.Figure at 0x1133c5160>"
      ]
     },
     "metadata": {
      "needs_background": "light"
     },
     "output_type": "display_data"
    }
   ],
   "source": [
    "plt.figure(figsize=(10, 10))\n",
    "plt.plot(iteration_range, acc_tr['gd']['iter'], label='gd tr', linestyle='--', color='g')\n",
    "# plt.plot(iteration_range, acc_te['gd']['iter'], label='gd val', linestyle='-', color='b')\n",
    "plt.plot(iteration_range, acc_te['gd']['iter'], label='gd test', linestyle='-', color='b')\n",
    "\n",
    "plt.ylabel(\"Accuracy\")\n",
    "plt.xlabel(\"Iterations\")\n",
    "plt.title(\"Accuracy vs Iterations\")\n",
    "plt.legend(loc='best')"
   ]
  },
  {
   "cell_type": "code",
   "execution_count": 6,
   "metadata": {},
   "outputs": [
    {
     "name": "stdout",
     "output_type": "stream",
     "text": [
      "              precision    recall  f1-score   support\n",
      "\n",
      "         0.0       0.91      1.00      0.95      4867\n",
      "         1.0       0.00      0.00      0.00       503\n",
      "\n",
      "   micro avg       0.91      0.91      0.91      5370\n",
      "   macro avg       0.45      0.50      0.48      5370\n",
      "weighted avg       0.82      0.91      0.86      5370\n",
      "\n"
     ]
    }
   ],
   "source": [
    "print(classification_report(y_test, best_clf.predict(X_test)))"
   ]
  },
  {
   "cell_type": "markdown",
   "metadata": {},
   "source": [
    "## GA"
   ]
  },
  {
   "cell_type": "code",
   "execution_count": 7,
   "metadata": {},
   "outputs": [
    {
     "name": "stdout",
     "output_type": "stream",
     "text": [
      "Eval iter 10\n",
      "Eval iter 11\n",
      "Eval iter 12\n",
      "Eval iter 13\n",
      "Eval iter 14\n"
     ]
    }
   ],
   "source": [
    "iteration_range = range(10, 15, 1)\n",
    "\n",
    "best_val_score = -1\n",
    "best_clf = \"\"\n",
    "\n",
    "for it in iteration_range:\n",
    "    print(\"Eval iter\", it)\n",
    "\n",
    "    algo = 'ga'\n",
    "    clf = mlrose.NeuralNetwork(hidden_nodes=[10,3], activation='relu', algorithm='genetic_alg',\n",
    "                              max_iters=it, bias=True, is_classifier=True, learning_rate=0.0001, \n",
    "                              early_stopping=True, clip_max=1, max_attempts=100)\n",
    "    score = evaluate(algo, 'iter', clf, kf)\n",
    "    if best_val_score<score:\n",
    "        best_val_score = score\n",
    "        best_clf = clf"
   ]
  },
  {
   "cell_type": "code",
   "execution_count": 8,
   "metadata": {},
   "outputs": [
    {
     "data": {
      "text/plain": [
       "<matplotlib.legend.Legend at 0x1135badd8>"
      ]
     },
     "execution_count": 8,
     "metadata": {},
     "output_type": "execute_result"
    },
    {
     "data": {
      "image/png": "[encoded data removed]",
      "text/plain": [
       "<matplotlib.figure.Figure at 0x107291c18>"
      ]
     },
     "metadata": {
      "needs_background": "light"
     },
     "output_type": "display_data"
    }
   ],
   "source": [
    "plt.figure(figsize=(10, 10))\n",
    "plt.plot(iteration_range, acc_tr['ga']['iter'], label='ga tr', linestyle='--', color='g')\n",
    "plt.plot(iteration_range, acc_te['ga']['iter'], label='ga test', linestyle='-', color='b')\n",
    "\n",
    "plt.ylabel(\"Accuracy\")\n",
    "plt.xlabel(\"Iterations\")\n",
    "plt.title(\"Accuracy vs Iterations\")\n",
    "plt.legend(loc='best')"
   ]
  },
  {
   "cell_type": "code",
   "execution_count": 9,
   "metadata": {},
   "outputs": [
    {
     "name": "stdout",
     "output_type": "stream",
     "text": [
      "              precision    recall  f1-score   support\n",
      "\n",
      "         0.0       0.95      1.00      0.97      4867\n",
      "         1.0       0.99      0.44      0.61       503\n",
      "\n",
      "   micro avg       0.95      0.95      0.95      5370\n",
      "   macro avg       0.97      0.72      0.79      5370\n",
      "weighted avg       0.95      0.95      0.94      5370\n",
      "\n"
     ]
    }
   ],
   "source": [
    "print(classification_report(y_test, best_clf.predict(X_test)))"
   ]
  },
  {
   "cell_type": "markdown",
   "metadata": {},
   "source": [
    "## Training time"
   ]
  },
  {
   "cell_type": "code",
   "execution_count": 13,
   "metadata": {},
   "outputs": [
    {
     "name": "stdout",
     "output_type": "stream",
     "text": [
      "Training time for GD in seconds\n",
      "0.0005672204494476319\n"
     ]
    }
   ],
   "source": [
    "print(\"Training time for GD in seconds\")\n",
    "print(np.mean(time_tr['gd']['iter']))"
   ]
  },
  {
   "cell_type": "code",
   "execution_count": 14,
   "metadata": {},
   "outputs": [
    {
     "name": "stdout",
     "output_type": "stream",
     "text": [
      "Training time for GA in seconds\n",
      "0.027609230041503906\n"
     ]
    }
   ],
   "source": [
    "print(\"Training time for GA in seconds\")\n",
    "print(np.mean(time_tr['ga']['iter']))"
   ]
  },
  {
   "cell_type": "code",
   "execution_count": null,
   "metadata": {},
   "outputs": [],
   "source": []
  }
 ],
 "metadata": {
  "kernelspec": {
   "display_name": "myEnv",
   "language": "python",
   "name": "myenv"
  },
  "language_info": {
   "codemirror_mode": {
    "name": "ipython",
    "version": 3
   },
   "file_extension": ".py",
   "mimetype": "text/x-python",
   "name": "python",
   "nbconvert_exporter": "python",
   "pygments_lexer": "ipython3",
   "version": "3.6.3"
  }
 },
 "nbformat": 4,
 "nbformat_minor": 2
}
